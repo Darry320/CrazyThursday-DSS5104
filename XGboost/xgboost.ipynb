{
 "cells": [
  {
   "cell_type": "code",
   "execution_count": 49,
   "id": "0a458d04",
   "metadata": {},
   "outputs": [],
   "source": [
    "import time\n",
    "import psutil\n",
    "import numpy as np\n",
    "import pandas as pd\n",
    "import os\n",
    "import matplotlib.pyplot as plt\n",
    "\n",
    "from sklearn.model_selection import train_test_split\n",
    "from sklearn.pipeline import Pipeline\n",
    "from sklearn.compose import ColumnTransformer\n",
    "from sklearn.preprocessing import StandardScaler, OrdinalEncoder\n",
    "from sklearn.metrics import (\n",
    "    accuracy_score, f1_score, roc_auc_score, classification_report,\n",
    "    mean_squared_error, mean_absolute_error, r2_score\n",
    ")\n",
    "\n",
    "from sklearn.preprocessing import LabelEncoder\n",
    "from xgboost import XGBClassifier, XGBRegressor\n",
    "import joblib\n",
    "from ucimlrepo import fetch_ucirepo\n"
   ]
  },
  {
   "cell_type": "code",
   "execution_count": 2,
   "id": "cd6b593a",
   "metadata": {},
   "outputs": [
    {
     "data": {
      "text/plain": [
       "'\\n\\nwe can choose different dataset\\n\\nif using California housing dataset, please choose load_california_housing()\\n\\nif using uci dataset, please choose load_data()\\n\\nseed\\n\\nseed we choose 777, 888, 999\\n\\n'"
      ]
     },
     "execution_count": 2,
     "metadata": {},
     "output_type": "execute_result"
    }
   ],
   "source": [
    "'''\n",
    "\n",
    "we can choose different dataset\n",
    "\n",
    "if using California housing dataset, please choose load_california_housing()\n",
    "\n",
    "if using uci dataset, please choose load_data()\n",
    "\n",
    "seed\n",
    "\n",
    "seed we choose 777, 888, 999\n",
    "\n",
    "'''"
   ]
  },
  {
   "cell_type": "code",
   "execution_count": 43,
   "id": "4b95845f",
   "metadata": {},
   "outputs": [],
   "source": [
    "\n",
    "'''\n",
    "[Covertype](https://archive.ics.uci.edu/dataset/31/covertype)\n",
    "\n",
    "[Adult](https://archive.ics.uci.edu/dataset/2/adult)\n",
    "\n",
    "[Bank Marketing](https://archive.ics.uci.edu/dataset/222/bank+marketing)\n",
    "\n",
    "[Poker Hand](https://archive.ics.uci.edu/dataset/158/poker+hand)\n",
    "\n",
    "[HIGGS](https://archive.ics.uci.edu/dataset/280/higgs)\n",
    "\n",
    "[Wine Quality](https://archive.ics.uci.edu/dataset/186/wine+quality)\n",
    "'''\n",
    "\n",
    "seed = 999\n",
    "dataset_name = \"Wine Quality\" \n",
    "dataset_id = 186\n",
    "task_type = \"regression\"  # or \"regression\"\n",
    "scale = 0.5\n",
    "\n",
    "save_dir = os.path.join(r\"D:\\DSS5104\\XGboost\\xgboost_result\\999\", dataset_name)\n",
    "#save_dir = os.path.join(r\"D:\\DSS5104\\XGboost\\xgboost_result\\scale\", f\"{dataset_name}_scale{scale}\")\n",
    "os.makedirs(save_dir, exist_ok=True)\n"
   ]
  },
  {
   "cell_type": "code",
   "execution_count": 75,
   "id": "92a8e5f3",
   "metadata": {},
   "outputs": [],
   "source": [
    "from sklearn.datasets import fetch_california_housing\n",
    "seed = 777\n",
    "\n",
    "def load_california_housing():\n",
    "    data = fetch_california_housing()\n",
    "    X = data.data \n",
    "    y = data.target \n",
    "    \n",
    "    feature_names = data.feature_names\n",
    "    X = pd.DataFrame(X, columns=feature_names)\n",
    "\n",
    "    return X, y\n",
    "dataset_name = \"California Housing\"  \n",
    "task_type = \"regression\"\n",
    "\n",
    "save_dir = os.path.join(r\"D:\\DSS5104\\XGboost\\xgboost_result\\777\", dataset_name)\n",
    "os.makedirs(save_dir, exist_ok=True)\n"
   ]
  },
  {
   "cell_type": "code",
   "execution_count": 51,
   "id": "79fa8a50",
   "metadata": {},
   "outputs": [],
   "source": [
    "def load_data():\n",
    "    dataset = fetch_ucirepo(id=dataset_id)\n",
    "    X, y = dataset.data.features, dataset.data.targets.squeeze()\n",
    "\n",
    "    y = y.astype(str).str.strip().str.replace('.', '', regex=False)\n",
    "\n",
    "    if (X == \"?\").any().any():\n",
    "        X = X.replace(\"?\", np.nan)\n",
    "\n",
    "        original_shape = X.shape[0]\n",
    "        df = pd.concat([X, y], axis=1)\n",
    "        df = df.dropna()\n",
    "        removed = original_shape - df.shape[0]\n",
    "        print(f\"Missing value detected. Remove {removed} records\")\n",
    "\n",
    "\n",
    "        X = df.drop(columns=[y.name])\n",
    "        y = df[y.name]\n",
    "\n",
    "    return X, y\n"
   ]
  },
  {
   "cell_type": "code",
   "execution_count": 5,
   "id": "4ec1ca4c",
   "metadata": {},
   "outputs": [],
   "source": [
    "#sample 0.1, 0.5\n",
    "def load_data():\n",
    "    dataset = fetch_ucirepo(id=dataset_id)\n",
    "    X, y = dataset.data.features, dataset.data.targets.squeeze()\n",
    "    \n",
    "    data = pd.concat([X, y], axis=1)\n",
    "    data = data.sample(frac=scale, random_state=seed)  \n",
    "    \n",
    "    X = data.drop(columns=[y.name])\n",
    "    y = data[y.name]\n",
    "    \n",
    "    y = y.astype(str).str.strip().str.replace('.', '', regex=False)\n",
    "    if (X == \"?\").any().any():\n",
    "        X = X.replace(\"?\", np.nan)\n",
    "        df = pd.concat([X, y], axis=1).dropna()\n",
    "        X, y = df.drop(columns=[y.name]), df[y.name]\n",
    "    \n",
    "    return X, y"
   ]
  },
  {
   "cell_type": "code",
   "execution_count": 76,
   "id": "adc96a5e",
   "metadata": {},
   "outputs": [],
   "source": [
    "def split_features(X):\n",
    "    cat_cols = X.select_dtypes(include=[\"object\"]).columns.tolist()\n",
    "    num_cols = X.select_dtypes(include=[\"float64\", \"int64\"]).columns.tolist()\n",
    "    return num_cols, cat_cols\n",
    "\n",
    "def build_preprocessor(num_cols, cat_cols):\n",
    "    numeric_transformer = StandardScaler()\n",
    "    categorical_transformer = OrdinalEncoder(handle_unknown='use_encoded_value', unknown_value=-1)\n",
    "    return ColumnTransformer([\n",
    "        ('num', numeric_transformer, num_cols),\n",
    "        ('cat', categorical_transformer, cat_cols)\n",
    "    ])\n"
   ]
  },
  {
   "cell_type": "code",
   "execution_count": 77,
   "id": "42dfd805",
   "metadata": {},
   "outputs": [
    {
     "name": "stdout",
     "output_type": "stream",
     "text": [
      "dataset: train=16512, test=4128\n"
     ]
    }
   ],
   "source": [
    "X, y = load_california_housing()\n",
    "#X, y = load_data()\n",
    "num_cols, cat_cols = split_features(X)\n",
    "preprocessor = build_preprocessor(num_cols, cat_cols)\n",
    "\n",
    "if task_type == \"classification\":\n",
    "\n",
    "    X_train, X_test, y_train, y_test = train_test_split(\n",
    "        X, y, test_size=0.2,\n",
    "        stratify=y if task_type == \"classification\" else None,\n",
    "        random_state=seed\n",
    "    )\n",
    "\n",
    "else:\n",
    "    X_train, X_test, y_train, y_test = train_test_split(\n",
    "        X, y, test_size=0.2,\n",
    "        random_state=seed\n",
    "    )\n",
    "\n",
    "\n",
    "print(f\"dataset: train={len(X_train)}, test={len(X_test)}\")"
   ]
  },
  {
   "cell_type": "code",
   "execution_count": 78,
   "id": "8aa823c3",
   "metadata": {},
   "outputs": [],
   "source": [
    "model = XGBClassifier(n_jobs=-1, random_state=seed, use_label_encoder=False, eval_metric='logloss') \\\n",
    "    if task_type == \"classification\" \\\n",
    "    else XGBRegressor(n_jobs=-1, random_state=seed)\n",
    "\n",
    "pipeline = Pipeline([\n",
    "    (\"pre\", preprocessor),\n",
    "    (\"xgb\", model)\n",
    "])\n"
   ]
  },
  {
   "cell_type": "code",
   "execution_count": 79,
   "id": "8ccbe8e1",
   "metadata": {},
   "outputs": [
    {
     "name": "stdout",
     "output_type": "stream",
     "text": [
      "time: 0.27s, CPU: 17.4% → 96.5%, cpu occupied: 79.1%, memory used: 111.76MB\n"
     ]
    }
   ],
   "source": [
    "start_time = time.time()\n",
    "\n",
    "process = psutil.Process()\n",
    "process.cpu_percent(interval=None)\n",
    "\n",
    "cpu_before = psutil.cpu_percent(interval=None)\n",
    "    \n",
    "if task_type == \"classification\":\n",
    "    label_encoder = LabelEncoder()\n",
    "    y_train_encoded = label_encoder.fit_transform(y_train)\n",
    "    y_test_encoded = label_encoder.transform(y_test)\n",
    "else:\n",
    "    y_train_encoded = y_train\n",
    "    y_test_encoded = y_test\n",
    "    \n",
    "pipeline.fit(X_train, y_train_encoded)\n",
    "\n",
    "train_time = time.time() - start_time\n",
    "cpu_after = psutil.cpu_percent(interval=None)\n",
    "cpu_occupied = cpu_after - cpu_before\n",
    "memory_used = process.memory_info().rss / (1024 ** 2)\n",
    "\n",
    "print(f\"time: {train_time:.2f}s, CPU: {cpu_before}% → {cpu_after}%, cpu occupied: {cpu_occupied}%, memory used: {memory_used:.2f}MB\")"
   ]
  },
  {
   "cell_type": "code",
   "execution_count": 82,
   "id": "2b26f8e7",
   "metadata": {},
   "outputs": [
    {
     "name": "stdout",
     "output_type": "stream",
     "text": [
      "\n",
      "evaluation:\n",
      "RMSE: 0.4698\n",
      "MAE: 0.3061\n",
      "R²: 0.8288\n"
     ]
    }
   ],
   "source": [
    "# evaluation\n",
    "y_test_pred = pipeline.predict(X_test)\n",
    "\n",
    "results = {\n",
    "    \"train_time_seconds\": train_time,\n",
    "    \"cpu_before_percent\": cpu_before,\n",
    "    \"cpu_after_percent\": cpu_after\n",
    "}\n",
    "\n",
    "if task_type == \"classification\":\n",
    "    y_test_encoded = label_encoder.transform(y_test)\n",
    "\n",
    "    test_acc = accuracy_score(y_test_encoded, y_test_pred)\n",
    "    test_f1 = f1_score(y_test_encoded, y_test_pred, average=\"macro\")\n",
    "\n",
    "    results.update({\n",
    "        \"test_accuracy\": test_acc,\n",
    "        \"test_f1\": test_f1,\n",
    "    })\n",
    "\n",
    "    print(f\"\\nevaluation:\")\n",
    "    print(f\"Accuracy: {test_acc:.4f}\")\n",
    "    print(f\"F1 Score: {test_f1:.4f}\")\n",
    "\n",
    "    try:\n",
    "        y_test_proba = pipeline.predict_proba(X_test)\n",
    "        test_auc = roc_auc_score(y_test_encoded, y_test_proba[:, 1])\n",
    "        results[\"test_auc\"] = test_auc\n",
    "        print(f\"AUC: {test_auc:.4f}\")\n",
    "    except Exception as e:\n",
    "        test_auc = np.nan\n",
    "        print(\"AUC can't be caculated:\", e)\n",
    "\n",
    "else:\n",
    "    test_rmse = mean_squared_error(y_test, y_test_pred) ** 0.5\n",
    "    test_mae = mean_absolute_error(y_test, y_test_pred)\n",
    "    test_r2 = r2_score(y_test, y_test_pred)\n",
    "\n",
    "    results.update({\n",
    "        \"test_rmse\": test_rmse,\n",
    "        \"test_mae\": test_mae,\n",
    "        \"test_r2\": test_r2,\n",
    "    })\n",
    "\n",
    "    print(f\"\\nevaluation:\")\n",
    "    print(f\"RMSE: {test_rmse:.4f}\")\n",
    "    print(f\"MAE: {test_mae:.4f}\")\n",
    "    print(f\"R²: {test_r2:.4f}\")\n"
   ]
  },
  {
   "cell_type": "code",
   "execution_count": 81,
   "id": "794cc7ee",
   "metadata": {},
   "outputs": [
    {
     "name": "stdout",
     "output_type": "stream",
     "text": [
      "All saved in D:\\DSS5104\\XGboost\\xgboost_result\\777\\California Housing\n"
     ]
    }
   ],
   "source": [
    "if task_type == \"classification\":\n",
    "    ordered_results = {\n",
    "        \"Accuracy\": test_acc,\n",
    "        \"F1_score\": test_f1,\n",
    "        \"AUC\": test_auc,\n",
    "        \"time\": train_time,\n",
    "        \"cpu_before(%)\": cpu_before,\n",
    "        \"cpu_after(%)\": cpu_after,\n",
    "        \"cpu_occupied(%)\": cpu_after - cpu_before,\n",
    "        \"memory_used(MB)\": memory_used         \n",
    "    }\n",
    "else:\n",
    "    ordered_results = {\n",
    "        \"RMSE\": test_rmse,\n",
    "        \"MAE\": test_mae,\n",
    "        \"R2\": test_r2,\n",
    "        \"time\": train_time,\n",
    "        \"cpu_before(%)\": cpu_before,\n",
    "        \"cpu_after(%)\": cpu_after,\n",
    "        \"cpu_occupied(%)\": cpu_after - cpu_before,\n",
    "        \"memory_used(MB)\": memory_used\n",
    "    }\n",
    "\n",
    "result_df = pd.DataFrame([ordered_results])\n",
    "result_path = os.path.join(save_dir, f\"{dataset_name}_xgboost_results.csv\")\n",
    "result_df.to_csv(result_path, index=False)\n",
    "\n",
    "print(\"All saved in\", save_dir)\n"
   ]
  }
 ],
 "metadata": {
  "kernelspec": {
   "display_name": "Python 3",
   "language": "python",
   "name": "python3"
  },
  "language_info": {
   "codemirror_mode": {
    "name": "ipython",
    "version": 3
   },
   "file_extension": ".py",
   "mimetype": "text/x-python",
   "name": "python",
   "nbconvert_exporter": "python",
   "pygments_lexer": "ipython3",
   "version": "3.12.6"
  }
 },
 "nbformat": 4,
 "nbformat_minor": 5
}
