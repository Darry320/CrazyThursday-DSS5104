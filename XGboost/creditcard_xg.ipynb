{
 "cells": [
  {
   "cell_type": "code",
   "execution_count": 1,
   "id": "15592a4d",
   "metadata": {},
   "outputs": [],
   "source": [
    "import pandas as pd\n",
    "import numpy as np\n",
    "import time\n",
    "import psutil\n",
    "from sklearn.model_selection import train_test_split\n",
    "from sklearn.metrics import accuracy_score, f1_score, roc_auc_score\n",
    "from sklearn.compose import ColumnTransformer\n",
    "from sklearn.preprocessing import StandardScaler, OrdinalEncoder\n",
    "from xgboost import XGBClassifier\n",
    "import os"
   ]
  },
  {
   "cell_type": "code",
   "execution_count": 2,
   "id": "6aef0026",
   "metadata": {},
   "outputs": [],
   "source": [
    "results = []\n",
    "\n",
    "def split_features(X):\n",
    "    cat_cols = X.select_dtypes(include=[\"object\", \"category\"]).columns.tolist()\n",
    "    num_cols = X.select_dtypes(include=[\"int64\", \"float64\"]).columns.tolist()\n",
    "    return num_cols, cat_cols\n",
    "\n",
    "def build_preprocessor(num_cols, cat_cols):\n",
    "    numeric_transformer = StandardScaler()\n",
    "    categorical_transformer = OrdinalEncoder(\n",
    "        handle_unknown=\"use_encoded_value\",\n",
    "        unknown_value=-1\n",
    "    )\n",
    "\n",
    "    preprocessor = ColumnTransformer([\n",
    "        (\"num\", numeric_transformer, num_cols),\n",
    "        (\"cat\", categorical_transformer, cat_cols),\n",
    "    ])\n",
    "    \n",
    "    return preprocessor\n",
    "\n",
    "def evaluate_model(X, y):\n",
    "    X_train, X_test, y_train, y_test = train_test_split(X, y, test_size=0.2, random_state=999, stratify=y)\n",
    "\n",
    "    start_time = time.time()\n",
    "    process = psutil.Process()\n",
    "    process.cpu_percent(interval=None)\n",
    "    cpu_before = psutil.cpu_percent(interval=None)\n",
    "\n",
    "    model = XGBClassifier(\n",
    "        n_estimators=100,\n",
    "        use_label_encoder=False,\n",
    "        eval_metric='logloss',\n",
    "        random_state=999,\n",
    "        n_jobs=-1\n",
    "    )\n",
    "    \n",
    "    model.fit(X_train, y_train)\n",
    "\n",
    "    end_time = time.time()\n",
    "    elapsed_time = end_time - start_time\n",
    "    cpu_after = psutil.cpu_percent(interval=None)\n",
    "    cpu_occupied = cpu_after - cpu_before\n",
    "    memory_used = process.memory_info().rss / (1024 ** 2)\n",
    "\n",
    "    y_pred = model.predict(X_test)\n",
    "    y_proba = model.predict_proba(X_test)[:, 1]\n",
    "\n",
    "    acc = accuracy_score(y_test, y_pred)\n",
    "    f1 = f1_score(y_test, y_pred)\n",
    "    auc = roc_auc_score(y_test, y_proba)\n",
    "\n",
    "    print(f\"Accuracy: {acc:.4f}\")\n",
    "    print(f\"F1-score: {f1:.4f}\")\n",
    "    print(f\"AUC: {auc:.4f}\")\n",
    "    print(f\"time: {elapsed_time:.2f} seconds\")\n",
    "    print(f\"cpu_occupied: {cpu_occupied}%\")\n",
    "    print(f\"Memory Used: {memory_used:.2f} MB\")\n",
    "    \n",
    "    results.append({\n",
    "        'Accuracy': acc,\n",
    "        'F1-score': f1,\n",
    "        'AUC': auc,\n",
    "        'time': elapsed_time,\n",
    "        'cpu_occupied(%)': cpu_occupied,\n",
    "        'Memory_Used (MB)': memory_used\n",
    "    })"
   ]
  },
  {
   "cell_type": "code",
   "execution_count": 3,
   "id": "3ffaba11",
   "metadata": {},
   "outputs": [
    {
     "name": "stderr",
     "output_type": "stream",
     "text": [
      "d:\\python\\Lib\\site-packages\\xgboost\\training.py:183: UserWarning: [14:27:46] WARNING: C:\\actions-runner\\_work\\xgboost\\xgboost\\src\\learner.cc:738: \n",
      "Parameters: { \"use_label_encoder\" } are not used.\n",
      "\n",
      "  bst.update(dtrain, iteration=i, fobj=obj)\n"
     ]
    },
    {
     "name": "stdout",
     "output_type": "stream",
     "text": [
      "Accuracy: 0.9992\n",
      "F1-score: 0.7582\n",
      "AUC: 0.8773\n",
      "time: 2.64 seconds\n",
      "cpu_occupied: 63.599999999999994%\n",
      "Memory Used: 450.00 MB\n",
      "\n",
      "Saved all: D:\\DSS5104\\XGBoost\\xgboost_result\\999\\CreditCard\\CreditCard.csv\n"
     ]
    }
   ],
   "source": [
    "file_path = r\"C:\\Users\\张凤智\\Downloads\\credit\\creditcard.csv\"\n",
    "save_path = r\"D:\\DSS5104\\XGBoost\\xgboost_result\\999\\CreditCard\\CreditCard.csv\"\n",
    "\n",
    "df = pd.read_csv(file_path)\n",
    "\n",
    "y = df['Class']\n",
    "X = df.drop(columns=['Class'])\n",
    "\n",
    "num_cols, cat_cols = split_features(X)\n",
    "preprocessor = build_preprocessor(num_cols, cat_cols)\n",
    "\n",
    "X_processed = preprocessor.fit_transform(X)\n",
    "\n",
    "evaluate_model(X_processed, y)\n",
    "\n",
    "os.makedirs(os.path.dirname(save_path), exist_ok=True)\n",
    "results_df = pd.DataFrame(results)\n",
    "results_df.to_csv(save_path, index=False)\n",
    "print(f\"\\nSaved all: {save_path}\")"
   ]
  }
 ],
 "metadata": {
  "kernelspec": {
   "display_name": "Python 3",
   "language": "python",
   "name": "python3"
  },
  "language_info": {
   "codemirror_mode": {
    "name": "ipython",
    "version": 3
   },
   "file_extension": ".py",
   "mimetype": "text/x-python",
   "name": "python",
   "nbconvert_exporter": "python",
   "pygments_lexer": "ipython3",
   "version": "3.12.6"
  }
 },
 "nbformat": 4,
 "nbformat_minor": 5
}
