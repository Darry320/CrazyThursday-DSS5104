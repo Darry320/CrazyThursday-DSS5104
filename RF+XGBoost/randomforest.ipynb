{
 "cells": [
  {
   "cell_type": "code",
   "execution_count": 1,
   "id": "1c3e0679",
   "metadata": {},
   "outputs": [],
   "source": [
    "import time\n",
    "import psutil\n",
    "import numpy as np\n",
    "import pandas as pd\n",
    "import matplotlib.pyplot as plt\n",
    "from sklearn.model_selection import train_test_split\n",
    "from sklearn.pipeline import Pipeline\n",
    "from sklearn.compose import ColumnTransformer\n",
    "from sklearn.preprocessing import StandardScaler, OrdinalEncoder\n",
    "from sklearn.ensemble import RandomForestClassifier, RandomForestRegressor\n",
    "from sklearn.metrics import (\n",
    "    accuracy_score, f1_score, roc_auc_score,\n",
    "    mean_squared_error, mean_absolute_error, r2_score,\n",
    "    classification_report\n",
    ")\n",
    "\n",
    "import joblib\n",
    "import os\n",
    "\n",
    "from ucimlrepo import fetch_ucirepo\n"
   ]
  },
  {
   "cell_type": "code",
   "execution_count": 2,
   "id": "08adcc4e",
   "metadata": {},
   "outputs": [
    {
     "data": {
      "text/plain": [
       "'\\n\\nwe can choose different dataset\\n\\nif using California housing dataset, please choose load_california_housing()\\n\\nif using uci dataset, please choose load_data()\\n\\nseed\\n\\nseed we choose 777, 888, 999\\n\\n'"
      ]
     },
     "execution_count": 2,
     "metadata": {},
     "output_type": "execute_result"
    }
   ],
   "source": [
    "'''\n",
    "\n",
    "we can choose different dataset\n",
    "\n",
    "if using California housing dataset, please choose load_california_housing()\n",
    "\n",
    "if using uci dataset, please choose load_data()\n",
    "\n",
    "seed\n",
    "\n",
    "seed we choose 777, 888, 999\n",
    "\n",
    "'''"
   ]
  },
  {
   "cell_type": "code",
   "execution_count": 3,
   "id": "3e955fae",
   "metadata": {},
   "outputs": [],
   "source": [
    "\n",
    "# california_housing dataset\n",
    "\n",
    "from sklearn.datasets import fetch_california_housing\n",
    "seed = 777\n",
    "\n",
    "def load_california_housing():\n",
    "    data = fetch_california_housing()\n",
    "    X = data.data \n",
    "    y = data.target \n",
    "    \n",
    "    feature_names = data.feature_names\n",
    "    X = pd.DataFrame(X, columns=feature_names)\n",
    "\n",
    "    return X, y\n",
    "dataset_name = \"California Housing\"  \n",
    "task_type = \"regression\"\n",
    "\n",
    "save_dir = os.path.join(r\"D:\\DSS5104\\final\\randomforest\\777\", dataset_name)\n",
    "os.makedirs(save_dir, exist_ok=True)\n",
    "\n"
   ]
  },
  {
   "cell_type": "code",
   "execution_count": null,
   "id": "1459f9c7",
   "metadata": {},
   "outputs": [],
   "source": [
    "#load uci dataset\n",
    "'''\n",
    "[Covertype](https://archive.ics.uci.edu/dataset/31/covertype)\n",
    "\n",
    "[Adult](https://archive.ics.uci.edu/dataset/2/adult)\n",
    "\n",
    "[Bank Marketing](https://archive.ics.uci.edu/dataset/222/bank+marketing)\n",
    "\n",
    "[Poker Hand](https://archive.ics.uci.edu/dataset/158/poker+hand)\n",
    "\n",
    "[HIGGS](https://archive.ics.uci.edu/dataset/280/higgs)\n",
    "\n",
    "[Wine Quality](https://archive.ics.uci.edu/dataset/186/wine+quality)\n",
    "'''\n",
    "\n",
    "seed = 999\n",
    "np.random.seed(seed)\n",
    "\n",
    "dataset_name = \"Covertype\" \n",
    "dataset_id = 31\n",
    "task_type = \"classification\" # \"classification\" or \"regression\"\n",
    "\n",
    "save_dir = os.path.join(r\"D:\\DSS5104\\final\\randomforest\", dataset_name)\n",
    "os.makedirs(save_dir, exist_ok=True)\n",
    "\n",
    "\n"
   ]
  },
  {
   "cell_type": "code",
   "execution_count": 4,
   "id": "0c6108c2",
   "metadata": {},
   "outputs": [],
   "source": [
    "def load_data():\n",
    "    dataset = fetch_ucirepo(id=dataset_id)\n",
    "    X = dataset.data.features\n",
    "    y = dataset.data.targets.squeeze()\n",
    "\n",
    "    if (X == \"?\").any().any():\n",
    "        X = X.replace(\"?\", np.nan)\n",
    "        \n",
    "        original_shape = X.shape[0]\n",
    "        df = pd.concat([X, y], axis=1)\n",
    "        df = df.dropna()\n",
    "        removed = original_shape - df.shape[0]\n",
    "        print(f\"Missing value detected. Remove {removed} records\")\n",
    "\n",
    "        X = df.drop(columns=[y.name])\n",
    "        y = df[y.name]\n",
    "\n",
    "    return X, y"
   ]
  },
  {
   "cell_type": "code",
   "execution_count": 5,
   "id": "6f756dd6",
   "metadata": {},
   "outputs": [],
   "source": [
    "\n",
    "def split_features(X):\n",
    "    cat_cols = X.select_dtypes(include=[\"object\", \"category\"]).columns.tolist()\n",
    "    num_cols = X.select_dtypes(include=[\"int64\", \"float64\"]).columns.tolist()\n",
    "    return num_cols, cat_cols\n",
    "\n",
    "def build_preprocessor(num_cols, cat_cols):\n",
    "    numeric_transformer = StandardScaler()\n",
    "    categorical_transformer = OrdinalEncoder(\n",
    "        handle_unknown=\"use_encoded_value\",\n",
    "        unknown_value=-1\n",
    "    )\n",
    "\n",
    "    preprocessor = ColumnTransformer([\n",
    "        (\"num\", numeric_transformer, num_cols),\n",
    "        (\"cat\", categorical_transformer, cat_cols),\n",
    "    ])\n",
    "    return preprocessor"
   ]
  },
  {
   "cell_type": "code",
   "execution_count": 7,
   "id": "46e747c2",
   "metadata": {},
   "outputs": [
    {
     "name": "stdout",
     "output_type": "stream",
     "text": [
      "dataset: train=16512, test=4128\n"
     ]
    }
   ],
   "source": [
    "#X, y = load_data() \n",
    "X, y = load_california_housing() #load_data()\n",
    "\n",
    "num_cols, cat_cols = split_features(X)\n",
    "preprocessor = build_preprocessor(num_cols, cat_cols)\n",
    "\n",
    "\n",
    "if task_type == \"classification\":\n",
    "\n",
    "    X_train, X_test, y_train, y_test = train_test_split(\n",
    "        X, y, test_size=0.2,\n",
    "        stratify=y if task_type == \"classification\" else None,\n",
    "        random_state=seed\n",
    "    )\n",
    "\n",
    "else:\n",
    "    X_train, X_test, y_train, y_test = train_test_split(\n",
    "        X, y, test_size=0.2,\n",
    "        random_state=seed\n",
    "    )\n",
    "\n",
    "\n",
    "print(f\"dataset: train={len(X_train)}, test={len(X_test)}\")\n"
   ]
  },
  {
   "cell_type": "code",
   "execution_count": 8,
   "id": "875461c5",
   "metadata": {},
   "outputs": [],
   "source": [
    "if task_type == \"classification\":\n",
    "    model = RandomForestClassifier(n_estimators=100, max_depth=None, random_state=seed, n_jobs=-1)\n",
    "else:\n",
    "    model = RandomForestRegressor(n_estimators=100, max_depth=None, random_state=seed, n_jobs=-1)\n",
    "\n",
    "pipeline = Pipeline([\n",
    "    (\"pre\", preprocessor),\n",
    "    (\"rf\", model),\n",
    "])"
   ]
  },
  {
   "cell_type": "code",
   "execution_count": 9,
   "id": "f6384da3",
   "metadata": {},
   "outputs": [
    {
     "name": "stdout",
     "output_type": "stream",
     "text": [
      "time: 5.30s, CPU: 18.0% → 22.0%\n"
     ]
    }
   ],
   "source": [
    "start_time = time.time()\n",
    "cpu_before = psutil.cpu_percent(interval=2)\n",
    "\n",
    "pipeline.fit(X_train, y_train)\n",
    "\n",
    "train_time = time.time() - start_time\n",
    "cpu_after = psutil.cpu_percent(interval=2)\n",
    "\n",
    "print(f\"time: {train_time:.2f}s, CPU: {cpu_before}% → {cpu_after}%\")"
   ]
  },
  {
   "cell_type": "code",
   "execution_count": 10,
   "id": "a2ccba51",
   "metadata": {},
   "outputs": [
    {
     "name": "stdout",
     "output_type": "stream",
     "text": [
      "evaluation:\n",
      "Test RMSE: 0.4999\n",
      "Test MAE: 0.3207\n",
      "Test R²: 0.8061\n"
     ]
    }
   ],
   "source": [
    "y_test_pred = pipeline.predict(X_test)\n",
    "\n",
    "if task_type == \"classification\":\n",
    "    \n",
    "    test_accuracy = accuracy_score(y_test, y_test_pred)\n",
    "    test_f1 = f1_score(y_test, y_test_pred, average=\"macro\")  \n",
    "    print(\"evaluation:\")\n",
    "    print(f\"Test Accuracy: {test_accuracy:.4f}\")\n",
    "    print(f\"Test F1 Score: {test_f1:.4f}\")\n",
    "    \n",
    "    try:\n",
    "        y_test_proba = pipeline.predict_proba(X_test)\n",
    "        if len(np.unique(y_test)) == 2:\n",
    "            test_auc = roc_auc_score(y_test, y_test_proba[:, 1])\n",
    "        else:\n",
    "            test_auc = roc_auc_score(y_test, y_test_proba, multi_class=\"ovr\", average=\"macro\")\n",
    "        print(f\"Test AUC: {test_auc:.4f}\")\n",
    "    except Exception as e:\n",
    "        print(\"AUC can't caculate: \", e)\n",
    "    \n",
    "    print(\"\\nClassification Report:\\n\", classification_report(y_test, y_test_pred))\n",
    "\n",
    "else:\n",
    "    \n",
    "    test_mse = mean_squared_error(y_test, y_test_pred)\n",
    "    test_rmse = test_mse ** 0.5\n",
    "    test_mae = mean_absolute_error(y_test, y_test_pred)\n",
    "    test_r2 = r2_score(y_test, y_test_pred)\n",
    "    \n",
    "    print(\"evaluation:\")\n",
    "    print(f\"Test RMSE: {test_rmse:.4f}\")\n",
    "    print(f\"Test MAE: {test_mae:.4f}\")\n",
    "    print(f\"Test R²: {test_r2:.4f}\")"
   ]
  },
  {
   "cell_type": "code",
   "execution_count": 12,
   "id": "36803dc8",
   "metadata": {},
   "outputs": [
    {
     "name": "stdout",
     "output_type": "stream",
     "text": [
      "model already saved D:\\DSS5104\\final\\randomforest\\777\\California Housing\\California Housing_random_forest_model.pkl\n",
      "saved D:\\DSS5104\\final\\randomforest\\777\\California Housing\\California Housing_model_results.xlsx\n"
     ]
    }
   ],
   "source": [
    "# 1️⃣ 保存模型\n",
    "model_filename = os.path.join(save_dir, f\"{dataset_name}_random_forest_model.pkl\")\n",
    "joblib.dump(pipeline, model_filename)\n",
    "print(f\"model already saved {model_filename}\")\n",
    "\n",
    "train_metrics = {\n",
    "    \"train_time_seconds\": train_time,\n",
    "    \"cpu_before_percent\": cpu_before,\n",
    "    \"cpu_after_percent\": cpu_after\n",
    "}\n",
    "\n",
    "if task_type == \"classification\":\n",
    "    eval_results = {\n",
    "        \"Accuracy\": test_accuracy,\n",
    "        \"F1_score\": test_f1,\n",
    "        \"AUC\": test_auc,\n",
    "        \"time\": train_time,\n",
    "        \"cpu_before(%)\": cpu_before,\n",
    "        \"cpu_after(%)\": cpu_after,\n",
    "        \"cpu_occupied(%)\": cpu_after - cpu_before\n",
    "    }\n",
    "    \n",
    "elif task_type == \"regression\":\n",
    "    eval_results = {\n",
    "        \"RMSE\": test_rmse,\n",
    "        \"MAE\": test_mae,\n",
    "        \"R2\": test_r2,\n",
    "        \"time\": train_time,\n",
    "        \"cpu_before(%)\": cpu_before,\n",
    "        \"cpu_after(%)\": cpu_after,\n",
    "        \"cpu_occupied(%)\": cpu_after - cpu_before\n",
    "    }\n",
    "\n",
    "eval_df = pd.DataFrame([eval_results])\n",
    "\n",
    "\n",
    "\n",
    "# 5️⃣ 保存到 Excel 文件\n",
    "excel_filename = os.path.join(save_dir, f\"{dataset_name}_model_results.xlsx\")\n",
    "with pd.ExcelWriter(excel_filename, engine=\"xlsxwriter\") as writer:\n",
    "    eval_df.to_excel(writer, sheet_name=\"Evaluation Results\", index=False)\n",
    "\n",
    "print(f\"saved {excel_filename}\")\n"
   ]
  }
 ],
 "metadata": {
  "kernelspec": {
   "display_name": "Python 3",
   "language": "python",
   "name": "python3"
  },
  "language_info": {
   "codemirror_mode": {
    "name": "ipython",
    "version": 3
   },
   "file_extension": ".py",
   "mimetype": "text/x-python",
   "name": "python",
   "nbconvert_exporter": "python",
   "pygments_lexer": "ipython3",
   "version": "3.12.6"
  }
 },
 "nbformat": 4,
 "nbformat_minor": 5
}
