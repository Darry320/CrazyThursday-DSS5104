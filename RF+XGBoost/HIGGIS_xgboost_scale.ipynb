{
 "cells": [
  {
   "cell_type": "code",
   "execution_count": 1,
   "id": "0a458d04",
   "metadata": {},
   "outputs": [],
   "source": [
    "import pandas as pd\n",
    "import numpy as np\n",
    "import time\n",
    "import psutil\n",
    "from sklearn.model_selection import train_test_split\n",
    "from sklearn.metrics import accuracy_score, f1_score, roc_auc_score\n",
    "from xgboost import XGBClassifier"
   ]
  },
  {
   "cell_type": "code",
   "execution_count": null,
   "id": "4b95845f",
   "metadata": {},
   "outputs": [],
   "source": [
    "\n",
    "file_path = r\"C:\\Users\\张凤智\\Downloads\\higgs\\HIGGS.csv.gz\"\n",
    "\n",
    "def evaluate_model(X, y, sample_fraction=1.0):\n",
    "    print(f\"\\nSample scale: {sample_fraction}\")\n",
    "\n",
    "    if sample_fraction < 1.0:\n",
    "\n",
    "        X_sample, _, y_sample, _ = train_test_split(X, y, train_size=sample_fraction, stratify=y, random_state=999)\n",
    "    else:\n",
    "        X_sample = X\n",
    "        y_sample = y\n",
    "        \n",
    "    X_train, X_test, y_train, y_test = train_test_split(X_sample, y_sample, test_size=0.2, random_state=999)\n",
    "\n",
    "    #record start time and CPU usage\n",
    "    start_time = time.time()\n",
    "    process = psutil.Process()\n",
    "\n",
    "    model = XGBClassifier(\n",
    "        use_label_encoder=False,\n",
    "        eval_metric='logloss',\n",
    "        verbosity=0,\n",
    "        n_jobs=-1\n",
    "    )\n",
    "    model.fit(X_train, y_train)\n",
    "\n",
    "    end_time = time.time()\n",
    "    elapsed_time = end_time - start_time\n",
    "    cpu_percent = process.cpu_percent(interval=0.1)\n",
    "    memory_used = process.memory_info().rss / (1024 ** 2)  \n",
    "\n",
    "    # model prediction\n",
    "    y_pred = model.predict(X_test)\n",
    "    y_proba = model.predict_proba(X_test)[:, 1]\n",
    "\n",
    "    # evaluate model performance\n",
    "    acc = accuracy_score(y_test, y_pred)\n",
    "    f1 = f1_score(y_test, y_pred)\n",
    "    auc = roc_auc_score(y_test, y_proba)\n",
    "\n",
    "    print(f\"Accuracy: {acc:.4f}\")\n",
    "    print(f\"F1-score: {f1:.4f}\")\n",
    "    print(f\"AUC: {auc:.4f}\")\n",
    "    print(f\"Time: {elapsed_time:.2f} seconds\")\n",
    "    print(f\"CPU Usage: {cpu_percent}%\")\n",
    "    print(f\"Memory Used: {memory_used:.2f} MB\")\n"
   ]
  },
  {
   "cell_type": "code",
   "execution_count": null,
   "id": "92a8e5f3",
   "metadata": {},
   "outputs": [
    {
     "name": "stdout",
     "output_type": "stream",
     "text": [
      "\n",
      " sample scale：0.1\n",
      "Accuracy: 0.7408\n",
      "F1-score: 0.7572\n",
      "AUC: 0.8222\n",
      "Time: 14.58 seconds\n",
      "CPU Usage: 430.0%\n",
      "Memory Used: 1436.05 MB\n",
      "\n",
      " sample scale：0.5\n",
      "Accuracy: 0.7408\n",
      "F1-score: 0.7577\n",
      "AUC: 0.8226\n",
      "Time: 68.30 seconds\n",
      "CPU Usage: 182.8%\n",
      "Memory Used: 2947.65 MB\n",
      "\n",
      " sample scale：1.0\n"
     ]
    }
   ],
   "source": [
    "\n",
    "df = pd.read_csv(file_path, compression='gzip', header=None)\n",
    "\n",
    "y = df.iloc[:, 0]\n",
    "X = df.iloc[:, 1:]\n",
    "\n",
    "for frac in [0.1, 0.5, 1.0]:\n",
    "    evaluate_model(X, y, sample_fraction=frac)"
   ]
  }
 ],
 "metadata": {
  "kernelspec": {
   "display_name": "Python 3",
   "language": "python",
   "name": "python3"
  },
  "language_info": {
   "codemirror_mode": {
    "name": "ipython",
    "version": 3
   },
   "file_extension": ".py",
   "mimetype": "text/x-python",
   "name": "python",
   "nbconvert_exporter": "python",
   "pygments_lexer": "ipython3",
   "version": "3.12.6"
  }
 },
 "nbformat": 4,
 "nbformat_minor": 5
}
