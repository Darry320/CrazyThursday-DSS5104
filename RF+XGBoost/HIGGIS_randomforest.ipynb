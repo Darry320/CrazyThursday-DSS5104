{
 "cells": [
  {
   "cell_type": "code",
   "execution_count": 1,
   "id": "0a458d04",
   "metadata": {},
   "outputs": [],
   "source": [
    "import pandas as pd\n",
    "import numpy as np\n",
    "import time\n",
    "import psutil\n",
    "from sklearn.model_selection import train_test_split\n",
    "from sklearn.metrics import accuracy_score, f1_score, roc_auc_score\n",
    "from sklearn.ensemble import RandomForestClassifier"
   ]
  },
  {
   "cell_type": "code",
   "execution_count": 2,
   "id": "4b95845f",
   "metadata": {},
   "outputs": [],
   "source": [
    "# 设置数据路径\n",
    "file_path = r\"C:\\Users\\张凤智\\Downloads\\higgs\\HIGGS.csv.gz\"\n",
    "\n",
    "def evaluate_model(X, y):\n",
    "        \n",
    "    # 训练集 / 测试集划分\n",
    "    X_train, X_test, y_train, y_test = train_test_split(X, y, test_size=0.2, random_state=999)\n",
    "\n",
    "    # 开始时间记录\n",
    "    start_time = time.time()\n",
    "    process = psutil.Process()\n",
    "\n",
    "    # 模型初始化和训练\n",
    "    model = RandomForestClassifier(\n",
    "        n_estimators=100,   # 树的数量\n",
    "        n_jobs=-1,          # 并行加速\n",
    "        random_state=999\n",
    "    )\n",
    "    \n",
    "    model.fit(X_train, y_train)\n",
    "\n",
    "    # 结束时间记录\n",
    "    end_time = time.time()\n",
    "    elapsed_time = end_time - start_time\n",
    "    cpu_percent = process.cpu_percent(interval=0.1)\n",
    "    memory_used = process.memory_info().rss / (1024 ** 2)  # 转换为 MB\n",
    "\n",
    "    # 模型预测\n",
    "    y_pred = model.predict(X_test)\n",
    "    y_proba = model.predict_proba(X_test)[:, 1]\n",
    "\n",
    "    # 评估指标\n",
    "    acc = accuracy_score(y_test, y_pred)\n",
    "    f1 = f1_score(y_test, y_pred)\n",
    "    auc = roc_auc_score(y_test, y_proba)\n",
    "\n",
    "    print(f\"✅ Accuracy: {acc:.4f}\")\n",
    "    print(f\"✅ F1-score: {f1:.4f}\")\n",
    "    print(f\"✅ AUC: {auc:.4f}\")\n",
    "    print(f\"⏱️ Time: {elapsed_time:.2f} seconds\")\n",
    "    print(f\"🧠 CPU Usage: {cpu_percent}%\")\n",
    "    print(f\"🧠 Memory Used: {memory_used:.2f} MB\")\n"
   ]
  },
  {
   "cell_type": "code",
   "execution_count": null,
   "id": "92a8e5f3",
   "metadata": {},
   "outputs": [
    {
     "name": "stdout",
     "output_type": "stream",
     "text": [
      "📥 正在加载数据...\n"
     ]
    }
   ],
   "source": [
    "# 加载数据（仅前 1,000,000 行可提高速度，也可以加载全部）\n",
    "print(\"📥 正在加载数据...\")\n",
    "df = pd.read_csv(file_path, compression='gzip', header=None)\n",
    "\n",
    "# 第一列是标签，后续是特征\n",
    "y = df.iloc[:, 0]\n",
    "X = df.iloc[:, 1:]\n",
    "\n",
    "\n",
    "evaluate_model(X, y)"
   ]
  }
 ],
 "metadata": {
  "kernelspec": {
   "display_name": "Python 3",
   "language": "python",
   "name": "python3"
  },
  "language_info": {
   "codemirror_mode": {
    "name": "ipython",
    "version": 3
   },
   "file_extension": ".py",
   "mimetype": "text/x-python",
   "name": "python",
   "nbconvert_exporter": "python",
   "pygments_lexer": "ipython3",
   "version": "3.12.6"
  }
 },
 "nbformat": 4,
 "nbformat_minor": 5
}
