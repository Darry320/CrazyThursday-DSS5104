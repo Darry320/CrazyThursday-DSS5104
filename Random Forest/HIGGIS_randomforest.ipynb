{
 "cells": [
  {
   "cell_type": "code",
   "execution_count": 3,
   "id": "0a458d04",
   "metadata": {},
   "outputs": [],
   "source": [
    "import pandas as pd\n",
    "import numpy as np\n",
    "import time\n",
    "import psutil\n",
    "from sklearn.model_selection import train_test_split\n",
    "from sklearn.metrics import accuracy_score, f1_score, roc_auc_score\n",
    "from sklearn.ensemble import RandomForestClassifier\n",
    "\n",
    "import os"
   ]
  },
  {
   "cell_type": "code",
   "execution_count": null,
   "id": "4b95845f",
   "metadata": {},
   "outputs": [],
   "source": [
    "\n",
    "file_path = r\"C:\\Users\\张凤智\\Downloads\\dataset.csv\"\n",
    "\n",
    "save_path = r\"D:\\DSS5104\\RandomForest\\randomforest_result\\999\\HIGGIS\\HIGGIS.csv\"\n",
    "\n",
    "results = []\n",
    "\n",
    "def evaluate_model(X, y):\n",
    "        \n",
    "    X_train, X_test, y_train, y_test = train_test_split(X, y, test_size=0.2, random_state=999)\n",
    "\n",
    "    start_time = time.time()\n",
    "    process = psutil.Process()\n",
    "    process.cpu_percent(interval=None)\n",
    "\n",
    "    model = RandomForestClassifier(\n",
    "        n_estimators=100,   \n",
    "        n_jobs=-1,          \n",
    "        random_state=999\n",
    "    )\n",
    "    \n",
    "    model.fit(X_train, y_train)\n",
    "\n",
    "    end_time = time.time()\n",
    "    elapsed_time = end_time - start_time\n",
    "    cpu_percent = process.cpu_percent(interval=None)\n",
    "    memory_used = process.memory_info().rss / (1024 ** 2)  \n",
    "\n",
    "    y_pred = model.predict(X_test)\n",
    "    y_proba = model.predict_proba(X_test)[:, 1]\n",
    "\n",
    "    acc = accuracy_score(y_test, y_pred)\n",
    "    f1 = f1_score(y_test, y_pred)\n",
    "    auc = roc_auc_score(y_test, y_proba)\n",
    "\n",
    "    print(f\"Accuracy: {acc:.4f}\")\n",
    "    print(f\"F1-score: {f1:.4f}\")\n",
    "    print(f\"AUC: {auc:.4f}\")\n",
    "    print(f\"time: {elapsed_time:.2f} seconds\")\n",
    "    print(f\"cpu_occupied: {cpu_percent}%\")\n",
    "    print(f\"Memory Used: {memory_used:.2f} MB\")\n",
    "    \n",
    "    results.append({\n",
    "    'Accuracy': acc,\n",
    "    'F1-score': f1,\n",
    "    'AUC': auc,\n",
    "    'time': elapsed_time,\n",
    "    'cpu_occupied(%)': cpu_percent,\n",
    "    'Memory_Used (MB)': memory_used\n",
    "})    \n",
    "\n"
   ]
  },
  {
   "cell_type": "code",
   "execution_count": null,
   "id": "92a8e5f3",
   "metadata": {},
   "outputs": [
    {
     "name": "stdout",
     "output_type": "stream",
     "text": [
      "loading...\n",
      "Accuracy: 0.7348\n",
      "F1-score: 0.7498\n",
      "AUC: 0.8152\n",
      "time: 320.90 seconds\n",
      "cpu_occupied: 617.9%\n",
      "Memory Used: 700.90 MB\n",
      "\n",
      "Saved all: {save_path}\n"
     ]
    }
   ],
   "source": [
    "print(\"loading...\")\n",
    "df = pd.read_csv(file_path, header=0) \n",
    "\n",
    "y = df.iloc[1:, 0].astype(float) \n",
    "X = df.iloc[1:, 1:].astype(float)  \n",
    "\n",
    "evaluate_model(X, y)\n",
    "\n",
    "os.makedirs(os.path.dirname(save_path), exist_ok=True)\n",
    "    \n",
    "results_df = pd.DataFrame(results)\n",
    "results_df.to_csv(save_path, index=False)\n",
    "print(f\"\\nSaved all: {save_path}\")"
   ]
  }
 ],
 "metadata": {
  "kernelspec": {
   "display_name": "Python 3",
   "language": "python",
   "name": "python3"
  },
  "language_info": {
   "codemirror_mode": {
    "name": "ipython",
    "version": 3
   },
   "file_extension": ".py",
   "mimetype": "text/x-python",
   "name": "python",
   "nbconvert_exporter": "python",
   "pygments_lexer": "ipython3",
   "version": "3.12.6"
  }
 },
 "nbformat": 4,
 "nbformat_minor": 5
}
